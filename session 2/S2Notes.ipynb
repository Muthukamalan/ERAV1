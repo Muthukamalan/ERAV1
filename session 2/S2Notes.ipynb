{
 "cells": [
  {
   "cell_type": "markdown",
   "id": "162d17b8-6805-46ce-abf2-841c076bfa91",
   "metadata": {},
   "source": [
    "- Why do we add layers?\n",
    "- Receptive Fields\n",
    "- convolution Mathematics\n",
    "- Max pooling\n",
    "- Max pooling invariances\n",
    "- Layer Count\n",
    "- Kernels in Layers 1\n",
    "- 3x3 is misleading\n",
    "- Multi-Channel Convolution"
   ]
  },
  {
   "cell_type": "markdown",
   "id": "8d26754c-68f2-49d7-9137-e56a66ab6b47",
   "metadata": {},
   "source": [
    "|**NAME**| $Channel_{in}$ | $Channel_{out}$ | $r_{in}$ | $r_{out}$ | $J_{in}$ | $J_{out}$ | Pad | Stride | Kernel | Param # (bias=F)               | Param # (bias=T) |\n",
    "|--------|----------------|-----------------|----------|-----------|----------|-----------|-----|--------|--------|--------------------------------|------------------|\n",
    "|CONV1   | 28             |28               | 1        |3          | 1        |1          |1    |1       |3       |(3 * 3) * 32 = 288              |  320             |\n",
    "|CONV2   | 28             |28               | 3        |5          | 1        |1          |1    |1       |3       |(3 * 3 * 32) * 64 = 18432       |  18496           |\n",
    "|MAXPOOL | 28             |14               | 5        |7          | 1        |2          |0    |2       |2       | Nil                            |  Nil             |\n",
    "|CONV3   | 14             |14               | 7        |11         | 2        |2          |1    |1       |3       |(3 * 3 * 64) * 128 = 73728      |  73,856          |\n",
    "|CONV4   | 14             |14               | 11       |15         | 2        |2          |1    |1       |3       |(3 * 3 * 128) * 256 = 294912    |  295,168         |\n",
    "|MAXPOOL | 14             |7                | 15       |19         | 2        |4          |0    |2       |2       |Nil                             |  Nil             |\n",
    "|CONV5   | 7              |5                | 19       |27         | 4        |4          |0    |1       |3       |(3 * 3 * 256) * 512 = 1,179,648 |  1,180,160       |\n",
    "|CONV6   | 5              |3                | 27       |35         | 4        |4          |0    |1       |3       |(3 * 3 * 512) * 1024 = 4,718,592|  4,719,616       |\n",
    "|CONV7   | 3              |1                | 35       |43         | 4        |4          |0    |1       |3       |(3 * 3 * 1024) * 10 = 92,160    |  92,170          |\n",
    "\n"
   ]
  },
  {
   "cell_type": "markdown",
   "id": "546f8b06-b4db-4810-abef-0a8952f379de",
   "metadata": {},
   "source": [
    "$r_{out}= r_{in} + (k-1) J_{out}$ where $j_{out}=j_{in} * S$"
   ]
  },
  {
   "cell_type": "markdown",
   "id": "68955cf1-b4e6-4da8-881c-8cecda24cc67",
   "metadata": {},
   "source": [
    " = 5 + (2-1)* 2\n",
    " \n",
    " = 7"
   ]
  },
  {
   "cell_type": "markdown",
   "id": "46b97840-92c4-4471-a2ea-d087c820c623",
   "metadata": {},
   "source": [
    "https://blog.mlreview.com/a-guide-to-receptive-field-arithmetic-for-convolutional-neural-networks-e0f514068807"
   ]
  },
  {
   "cell_type": "code",
   "execution_count": null,
   "id": "4289383a-803a-4725-ad13-f321bf323ece",
   "metadata": {},
   "outputs": [],
   "source": []
  }
 ],
 "metadata": {
  "kernelspec": {
   "display_name": "Python 3 (ipykernel)",
   "language": "python",
   "name": "python3"
  },
  "language_info": {
   "codemirror_mode": {
    "name": "ipython",
    "version": 3
   },
   "file_extension": ".py",
   "mimetype": "text/x-python",
   "name": "python",
   "nbconvert_exporter": "python",
   "pygments_lexer": "ipython3",
   "version": "3.10.9"
  }
 },
 "nbformat": 4,
 "nbformat_minor": 5
}
