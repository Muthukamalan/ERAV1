{
 "cells": [
  {
   "cell_type": "markdown",
   "id": "f71a5846-36d3-4d12-bf77-b417bc5ba5f2",
   "metadata": {},
   "source": [
    "CODE BLOCK: 1"
   ]
  },
  {
   "cell_type": "code",
   "execution_count": 1,
   "id": "fe468fb7-a83b-4324-8add-ce76dc6d63b7",
   "metadata": {},
   "outputs": [],
   "source": [
    "import torch\n",
    "import torch.nn as nn\n",
    "import torch.nn.functional as F\n",
    "import torch.optim as optim\n",
    "from torchvision import datasets, transforms"
   ]
  },
  {
   "cell_type": "code",
   "execution_count": 3,
   "id": "4995de1e-74b0-48b5-9e50-230de688bcdc",
   "metadata": {},
   "outputs": [],
   "source": [
    "from model import Net,model_summary\n",
    "from utils import has_cuda,which_device,random_image_in_batch"
   ]
  },
  {
   "cell_type": "code",
   "execution_count": null,
   "id": "f3362da9-0b26-498e-9e6e-aec2e98a9cd2",
   "metadata": {},
   "outputs": [],
   "source": []
  },
  {
   "cell_type": "markdown",
   "id": "8d98fd59-ae0d-43e3-9962-4690e68b2b01",
   "metadata": {},
   "source": [
    "CODE BLOCK: 2"
   ]
  },
  {
   "cell_type": "code",
   "execution_count": 4,
   "id": "81382e67-ca61-4217-a47e-adb87f4e5e8a",
   "metadata": {},
   "outputs": [
    {
     "name": "stdout",
     "output_type": "stream",
     "text": [
      "CUDA Available? False\n"
     ]
    }
   ],
   "source": [
    "# CUDA?\n",
    "cuda = has_cuda()"
   ]
  },
  {
   "cell_type": "code",
   "execution_count": null,
   "id": "e3ca9d41-6ab0-41d4-876a-e3a8bf7fed75",
   "metadata": {},
   "outputs": [],
   "source": []
  },
  {
   "cell_type": "markdown",
   "id": "da7e18ab-9e8e-44ae-b489-e9cfe1617a80",
   "metadata": {},
   "source": [
    "CODE BLOCK: 3"
   ]
  },
  {
   "cell_type": "code",
   "execution_count": 6,
   "id": "daaef37d-f296-4274-802b-e016ff026294",
   "metadata": {},
   "outputs": [],
   "source": [
    "# Train data transformations\n",
    "train_transforms = transforms.Compose([\n",
    "    transforms.RandomApply([transforms.CenterCrop(28), ], p=0.1),\n",
    "    transforms.Resize((28, 28)),\n",
    "    transforms.RandomRotation((-15., 15.), fill=0),\n",
    "    transforms.ToTensor(),\n",
    "    transforms.Normalize((0.1307,), (0.3081,)),\n",
    "    ])\n",
    "\n",
    "# Test data transformations\n",
    "test_transforms = transforms.Compose([\n",
    "    transforms.ToTensor(),\n",
    "    # transforms.Normalize((0.1407,), (0.4081,))\n",
    "    transforms.Normalize((0.1307,), (0.3081,)),            # should be same\n",
    "    ])"
   ]
  },
  {
   "cell_type": "code",
   "execution_count": null,
   "id": "21f922d4-675e-460b-a59a-7c930abb2877",
   "metadata": {},
   "outputs": [],
   "source": []
  },
  {
   "cell_type": "markdown",
   "id": "bb9611e0-78bc-4ca2-8068-806ef6227846",
   "metadata": {},
   "source": [
    "CODE BLOCK: 4"
   ]
  },
  {
   "cell_type": "code",
   "execution_count": 7,
   "id": "790efc07-70b4-4d0f-892e-bd1bc5e6ed57",
   "metadata": {},
   "outputs": [],
   "source": [
    "train_data = datasets.MNIST('../../data', train=True, download=True, transform=train_transforms)\n",
    "\n",
    "test_data = datasets.MNIST('../../data', train=True, download=True, transform=train_transforms)"
   ]
  },
  {
   "cell_type": "code",
   "execution_count": null,
   "id": "f1789077-7d17-4dea-8158-4ae435d1f7a5",
   "metadata": {},
   "outputs": [],
   "source": []
  },
  {
   "cell_type": "markdown",
   "id": "6367a00c-07a9-4940-8d69-1c9107d143b1",
   "metadata": {},
   "source": [
    "CODE BLOCK: 5"
   ]
  },
  {
   "cell_type": "code",
   "execution_count": 8,
   "id": "534dd753-ddb2-43d5-aed0-e1ca304f48cd",
   "metadata": {},
   "outputs": [],
   "source": [
    "batch_size = 128\n",
    "\n",
    "kwargs = {'batch_size': batch_size, 'shuffle': True, 'num_workers': 2, 'pin_memory': True}  if cuda else {'batch_size': batch_size, 'shuffle': True,}\n",
    "\n",
    "test_loader = torch.utils.data.DataLoader(test_data, **kwargs)\n",
    "train_loader = torch.utils.data.DataLoader(train_data, **kwargs) "
   ]
  },
  {
   "cell_type": "code",
   "execution_count": null,
   "id": "f5a1f708-70c9-4781-80c0-8d21f763af54",
   "metadata": {},
   "outputs": [],
   "source": []
  },
  {
   "cell_type": "markdown",
   "id": "a782bc30-83c4-4049-b058-e331132af6d8",
   "metadata": {},
   "source": [
    "CODE BLOCK: 6"
   ]
  },
  {
   "cell_type": "code",
   "execution_count": 9,
   "id": "2b034f4d-e68c-4608-90bb-f95c3610bfc5",
   "metadata": {},
   "outputs": [
    {
     "data": {
      "image/png": "[encoded data removed]",
      "text/plain": [
       "<Figure size 640x480 with 11 Axes>"
      ]
     },
     "metadata": {},
     "output_type": "display_data"
    }
   ],
   "source": [
    "import matplotlib.pyplot as plt\n",
    "\n",
    "batch_data, batch_label = next(iter(train_loader)) \n",
    "\n",
    "fig = plt.figure()\n",
    "\n",
    "for i in range(1,12):\n",
    "  plt.subplot(3,4,i+1)\n",
    "  plt.tight_layout()\n",
    "  plt.imshow(batch_data[i].squeeze(0), cmap='gray')\n",
    "  plt.title(batch_label[i].item())\n",
    "  plt.xticks([])\n",
    "  plt.yticks([])"
   ]
  },
  {
   "cell_type": "code",
   "execution_count": null,
   "id": "9a3827ba-ebf9-46dd-806c-daf9059c2ce7",
   "metadata": {},
   "outputs": [],
   "source": []
  },
  {
   "cell_type": "markdown",
   "id": "74b06ec3-a4b3-4df5-8dfa-fde1f80a38fd",
   "metadata": {},
   "source": [
    "CODE BLOCK: 7"
   ]
  },
  {
   "cell_type": "code",
   "execution_count": 10,
   "id": "ffd3805f-90b3-403c-809d-3317f4909935",
   "metadata": {},
   "outputs": [
    {
     "name": "stdout",
     "output_type": "stream",
     "text": [
      "CUDA Available? False\n",
      "cpu\n"
     ]
    }
   ],
   "source": [
    "device = which_device()\n",
    "print(device)\n",
    "\n",
    "# model = Net()"
   ]
  },
  {
   "cell_type": "code",
   "execution_count": 12,
   "id": "b9db95de-50d5-4d6f-801d-7478d71b53c2",
   "metadata": {},
   "outputs": [
    {
     "name": "stdout",
     "output_type": "stream",
     "text": [
      "==========================================================================================\n",
      "Layer (type:depth-idx)                   Output Shape              Param #\n",
      "==========================================================================================\n",
      "├─Conv2d: 1-1                            [-1, 32, 26, 26]          288\n",
      "├─Conv2d: 1-2                            [-1, 64, 24, 24]          18,432\n",
      "├─Conv2d: 1-3                            [-1, 128, 10, 10]         73,728\n",
      "├─Conv2d: 1-4                            [-1, 256, 8, 8]           294,912\n",
      "├─Linear: 1-5                            [-1, 50]                  204,800\n",
      "├─Linear: 1-6                            [-1, 10]                  500\n",
      "==========================================================================================\n",
      "Total params: 592,660\n",
      "Trainable params: 592,660\n",
      "Non-trainable params: 0\n",
      "Total mult-adds (M): 37.26\n",
      "==========================================================================================\n",
      "Input size (MB): 0.00\n",
      "Forward/backward pass size (MB): 0.67\n",
      "Params size (MB): 2.26\n",
      "Estimated Total Size (MB): 2.93\n",
      "==========================================================================================\n"
     ]
    }
   ],
   "source": [
    "model = Net().to(device)\n",
    "_ = model_summary(model=model, input_size=(1, 28, 28))"
   ]
  },
  {
   "cell_type": "code",
   "execution_count": null,
   "id": "fac6171d-47e4-41b3-b9fa-23827570110d",
   "metadata": {},
   "outputs": [],
   "source": []
  },
  {
   "cell_type": "markdown",
   "id": "4fbb1ebb-b9e2-462e-8080-7c7320ff1403",
   "metadata": {},
   "source": [
    "CODE BLOCK: 8"
   ]
  },
  {
   "cell_type": "code",
   "execution_count": 13,
   "id": "616c0da3-f07d-44aa-8b1a-642ebac0dbc7",
   "metadata": {},
   "outputs": [],
   "source": [
    "# Data to plot accuracy and loss graphs\n",
    "train_losses = []\n",
    "test_losses = []\n",
    "train_acc = []\n",
    "test_acc = []\n",
    "\n",
    "test_incorrect_pred = {'images': [], 'ground_truths': [], 'predicted_vals': []}"
   ]
  },
  {
   "cell_type": "code",
   "execution_count": null,
   "id": "6153d481-4dbb-4c1d-b338-fe6b3296dcb9",
   "metadata": {},
   "outputs": [],
   "source": []
  },
  {
   "cell_type": "markdown",
   "id": "9ea5c6e5-f662-48f2-9470-2b116daa0af2",
   "metadata": {},
   "source": [
    "CODE BLOCK: 9"
   ]
  },
  {
   "cell_type": "code",
   "execution_count": 15,
   "id": "4b3b8dd6-cc58-4bd5-95eb-c164c7b4c825",
   "metadata": {},
   "outputs": [],
   "source": [
    "\n",
    "from tqdm import tqdm\n",
    "\n",
    "def GetCorrectPredCount(pPrediction, pLabels):\n",
    "  return pPrediction.argmax(dim=1).eq(pLabels).sum().item()\n",
    "\n",
    "def train(model, device, train_loader, optimizer):\n",
    "  model.train()\n",
    "  pbar = tqdm(train_loader)\n",
    "\n",
    "  train_loss = 0\n",
    "  correct = 0\n",
    "  processed = 0\n",
    "\n",
    "  for batch_idx, (data, target) in enumerate(pbar):\n",
    "    data, target = data.to(device), target.to(device)\n",
    "    optimizer.zero_grad()\n",
    "\n",
    "    # Predict\n",
    "    pred = model(data)\n",
    "\n",
    "    # Calculate loss\n",
    "    loss = F.nll_loss(pred, target)\n",
    "    train_loss+=loss.item()\n",
    "\n",
    "    # Backpropagation\n",
    "    loss.backward()\n",
    "    optimizer.step()\n",
    "    \n",
    "    correct += GetCorrectPredCount(pred, target)\n",
    "    processed += len(data)\n",
    "\n",
    "    pbar.set_description(desc= f'Train: Loss={loss.item():0.4f} Batch_id={batch_idx} Accuracy={100*correct/processed:0.2f}')\n",
    "\n",
    "  train_acc.append(100*correct/processed)\n",
    "  train_losses.append(train_loss/len(train_loader))\n",
    "\n",
    "def test(model, device, test_loader):\n",
    "    model.eval()\n",
    "\n",
    "    test_loss = 0\n",
    "    correct = 0\n",
    "\n",
    "    with torch.no_grad():\n",
    "        for batch_idx, (data, target) in enumerate(test_loader):\n",
    "            data, target = data.to(device), target.to(device)\n",
    "\n",
    "            output = model(data)\n",
    "            test_loss += F.nll_loss(output, target, reduction='sum').item()  # sum up batch loss\n",
    "\n",
    "            correct += GetCorrectPredCount(output, target)\n",
    "\n",
    "\n",
    "    test_loss /= len(test_loader.dataset)\n",
    "    test_acc.append(100. * correct / len(test_loader.dataset))\n",
    "    test_losses.append(test_loss)\n",
    "\n",
    "    print('Test set: Average loss: {:.4f}, Accuracy: {}/{} ({:.2f}%)\\n'.format(\n",
    "        test_loss, correct, len(test_loader.dataset),\n",
    "        100. * correct / len(test_loader.dataset)))\n",
    "     "
   ]
  },
  {
   "cell_type": "code",
   "execution_count": null,
   "id": "a3e3a9fe-da2a-49ff-969f-66bb43826fb6",
   "metadata": {},
   "outputs": [],
   "source": []
  },
  {
   "cell_type": "markdown",
   "id": "1f6c18de-a001-4d7f-96d2-94d98d94c3e6",
   "metadata": {},
   "source": [
    "CODE BLOCK: 10"
   ]
  },
  {
   "cell_type": "code",
   "execution_count": 16,
   "id": "55e58a8b-a8c8-40a0-9692-6869ae893641",
   "metadata": {
    "scrolled": true,
    "tags": []
   },
   "outputs": [
    {
     "name": "stdout",
     "output_type": "stream",
     "text": [
      "Adjusting learning rate of group 0 to 1.0000e-02.\n",
      "Epoch 1\n"
     ]
    },
    {
     "name": "stderr",
     "output_type": "stream",
     "text": [
      "Train: Loss=0.1508 Batch_id=468 Accuracy=87.26: 100%|███████████████████████████████████████████████████████████████████████████████████████████████████████████████████████████████████████████████████████| 469/469 [02:34<00:00,  3.04it/s]\n"
     ]
    },
    {
     "name": "stdout",
     "output_type": "stream",
     "text": [
      "Test set: Average loss: 0.1031, Accuracy: 58043/60000 (96.74%)\n",
      "\n",
      "Adjusting learning rate of group 0 to 1.0000e-02.\n",
      "Epoch 2\n"
     ]
    },
    {
     "name": "stderr",
     "output_type": "stream",
     "text": [
      "Train: Loss=0.1008 Batch_id=468 Accuracy=97.51: 100%|███████████████████████████████████████████████████████████████████████████████████████████████████████████████████████████████████████████████████████| 469/469 [03:40<00:00,  2.12it/s]\n"
     ]
    },
    {
     "name": "stdout",
     "output_type": "stream",
     "text": [
      "Test set: Average loss: 0.0588, Accuracy: 58892/60000 (98.15%)\n",
      "\n",
      "Adjusting learning rate of group 0 to 1.0000e-02.\n",
      "Epoch 3\n"
     ]
    },
    {
     "name": "stderr",
     "output_type": "stream",
     "text": [
      "Train: Loss=0.0311 Batch_id=468 Accuracy=98.20: 100%|███████████████████████████████████████████████████████████████████████████████████████████████████████████████████████████████████████████████████████| 469/469 [03:07<00:00,  2.50it/s]\n"
     ]
    },
    {
     "name": "stdout",
     "output_type": "stream",
     "text": [
      "Test set: Average loss: 0.0515, Accuracy: 59072/60000 (98.45%)\n",
      "\n",
      "Adjusting learning rate of group 0 to 1.0000e-02.\n",
      "Epoch 4\n"
     ]
    },
    {
     "name": "stderr",
     "output_type": "stream",
     "text": [
      "Train: Loss=0.0199 Batch_id=468 Accuracy=98.44: 100%|███████████████████████████████| 469/469 [04:39<00:00,  1.68it/s]\n"
     ]
    },
    {
     "name": "stdout",
     "output_type": "stream",
     "text": [
      "Test set: Average loss: 0.0396, Accuracy: 59230/60000 (98.72%)\n",
      "\n",
      "Adjusting learning rate of group 0 to 1.0000e-02.\n",
      "Epoch 5\n"
     ]
    },
    {
     "name": "stderr",
     "output_type": "stream",
     "text": [
      "Train: Loss=0.0919 Batch_id=468 Accuracy=98.74: 100%|███████████████████████████████| 469/469 [03:29<00:00,  2.24it/s]\n"
     ]
    },
    {
     "name": "stdout",
     "output_type": "stream",
     "text": [
      "Test set: Average loss: 0.0347, Accuracy: 59349/60000 (98.92%)\n",
      "\n",
      "Adjusting learning rate of group 0 to 1.0000e-02.\n",
      "Epoch 6\n"
     ]
    },
    {
     "name": "stderr",
     "output_type": "stream",
     "text": [
      "Train: Loss=0.0361 Batch_id=468 Accuracy=98.86: 100%|███████████████████████████████| 469/469 [04:59<00:00,  1.57it/s]\n"
     ]
    },
    {
     "name": "stdout",
     "output_type": "stream",
     "text": [
      "Test set: Average loss: 0.0376, Accuracy: 59294/60000 (98.82%)\n",
      "\n",
      "Adjusting learning rate of group 0 to 1.0000e-02.\n",
      "Epoch 7\n"
     ]
    },
    {
     "name": "stderr",
     "output_type": "stream",
     "text": [
      "Train: Loss=0.0192 Batch_id=468 Accuracy=98.96: 100%|███████████████████████████████| 469/469 [04:44<00:00,  1.65it/s]\n"
     ]
    },
    {
     "name": "stdout",
     "output_type": "stream",
     "text": [
      "Test set: Average loss: 0.0297, Accuracy: 59427/60000 (99.05%)\n",
      "\n",
      "Adjusting learning rate of group 0 to 1.0000e-02.\n",
      "Epoch 8\n"
     ]
    },
    {
     "name": "stderr",
     "output_type": "stream",
     "text": [
      "Train: Loss=0.0032 Batch_id=468 Accuracy=99.08: 100%|███████████████████████████████| 469/469 [03:56<00:00,  1.98it/s]\n"
     ]
    },
    {
     "name": "stdout",
     "output_type": "stream",
     "text": [
      "Test set: Average loss: 0.0253, Accuracy: 59528/60000 (99.21%)\n",
      "\n",
      "Adjusting learning rate of group 0 to 1.0000e-02.\n",
      "Epoch 9\n"
     ]
    },
    {
     "name": "stderr",
     "output_type": "stream",
     "text": [
      "Train: Loss=0.0316 Batch_id=468 Accuracy=99.14: 100%|███████████████████████████████| 469/469 [03:41<00:00,  2.12it/s]\n"
     ]
    },
    {
     "name": "stdout",
     "output_type": "stream",
     "text": [
      "Test set: Average loss: 0.0232, Accuracy: 59561/60000 (99.27%)\n",
      "\n",
      "Adjusting learning rate of group 0 to 1.0000e-02.\n",
      "Epoch 10\n"
     ]
    },
    {
     "name": "stderr",
     "output_type": "stream",
     "text": [
      "Train: Loss=0.0237 Batch_id=468 Accuracy=99.23: 100%|███████████████████████████████| 469/469 [03:36<00:00,  2.17it/s]\n"
     ]
    },
    {
     "name": "stdout",
     "output_type": "stream",
     "text": [
      "Test set: Average loss: 0.0185, Accuracy: 59651/60000 (99.42%)\n",
      "\n",
      "Adjusting learning rate of group 0 to 1.0000e-02.\n",
      "Epoch 11\n"
     ]
    },
    {
     "name": "stderr",
     "output_type": "stream",
     "text": [
      "Train: Loss=0.0060 Batch_id=468 Accuracy=99.27: 100%|███████████████████████████████| 469/469 [03:47<00:00,  2.06it/s]\n"
     ]
    },
    {
     "name": "stdout",
     "output_type": "stream",
     "text": [
      "Test set: Average loss: 0.0228, Accuracy: 59560/60000 (99.27%)\n",
      "\n",
      "Adjusting learning rate of group 0 to 1.0000e-02.\n",
      "Epoch 12\n"
     ]
    },
    {
     "name": "stderr",
     "output_type": "stream",
     "text": [
      "Train: Loss=0.0124 Batch_id=468 Accuracy=99.37: 100%|███████████████████████████████| 469/469 [03:40<00:00,  2.13it/s]\n"
     ]
    },
    {
     "name": "stdout",
     "output_type": "stream",
     "text": [
      "Test set: Average loss: 0.0153, Accuracy: 59712/60000 (99.52%)\n",
      "\n",
      "Adjusting learning rate of group 0 to 1.0000e-02.\n",
      "Epoch 13\n"
     ]
    },
    {
     "name": "stderr",
     "output_type": "stream",
     "text": [
      "Train: Loss=0.0569 Batch_id=468 Accuracy=99.41: 100%|███████████████████████████████| 469/469 [03:32<00:00,  2.21it/s]\n"
     ]
    },
    {
     "name": "stdout",
     "output_type": "stream",
     "text": [
      "Test set: Average loss: 0.0147, Accuracy: 59715/60000 (99.53%)\n",
      "\n",
      "Adjusting learning rate of group 0 to 1.0000e-02.\n",
      "Epoch 14\n"
     ]
    },
    {
     "name": "stderr",
     "output_type": "stream",
     "text": [
      "Train: Loss=0.0181 Batch_id=468 Accuracy=99.44: 100%|███████████████████████████████| 469/469 [03:24<00:00,  2.30it/s]\n"
     ]
    },
    {
     "name": "stdout",
     "output_type": "stream",
     "text": [
      "Test set: Average loss: 0.0196, Accuracy: 59631/60000 (99.39%)\n",
      "\n",
      "Adjusting learning rate of group 0 to 1.0000e-02.\n",
      "Epoch 15\n"
     ]
    },
    {
     "name": "stderr",
     "output_type": "stream",
     "text": [
      "Train: Loss=0.0052 Batch_id=468 Accuracy=99.41: 100%|███████████████████████████████| 469/469 [03:29<00:00,  2.24it/s]\n"
     ]
    },
    {
     "name": "stdout",
     "output_type": "stream",
     "text": [
      "Test set: Average loss: 0.0156, Accuracy: 59686/60000 (99.48%)\n",
      "\n",
      "Adjusting learning rate of group 0 to 1.0000e-03.\n",
      "Epoch 16\n"
     ]
    },
    {
     "name": "stderr",
     "output_type": "stream",
     "text": [
      "Train: Loss=0.0027 Batch_id=468 Accuracy=99.65: 100%|███████████████████████████████| 469/469 [04:13<00:00,  1.85it/s]\n"
     ]
    },
    {
     "name": "stdout",
     "output_type": "stream",
     "text": [
      "Test set: Average loss: 0.0088, Accuracy: 59845/60000 (99.74%)\n",
      "\n",
      "Adjusting learning rate of group 0 to 1.0000e-03.\n",
      "Epoch 17\n"
     ]
    },
    {
     "name": "stderr",
     "output_type": "stream",
     "text": [
      "Train: Loss=0.0028 Batch_id=468 Accuracy=99.71: 100%|███████████████████████████████| 469/469 [03:31<00:00,  2.22it/s]\n"
     ]
    },
    {
     "name": "stdout",
     "output_type": "stream",
     "text": [
      "Test set: Average loss: 0.0088, Accuracy: 59853/60000 (99.75%)\n",
      "\n",
      "Adjusting learning rate of group 0 to 1.0000e-03.\n",
      "Epoch 18\n"
     ]
    },
    {
     "name": "stderr",
     "output_type": "stream",
     "text": [
      "Train: Loss=0.0084 Batch_id=468 Accuracy=99.75: 100%|███████████████████████████████| 469/469 [03:42<00:00,  2.11it/s]\n"
     ]
    },
    {
     "name": "stdout",
     "output_type": "stream",
     "text": [
      "Test set: Average loss: 0.0079, Accuracy: 59868/60000 (99.78%)\n",
      "\n",
      "Adjusting learning rate of group 0 to 1.0000e-03.\n",
      "Epoch 19\n"
     ]
    },
    {
     "name": "stderr",
     "output_type": "stream",
     "text": [
      "Train: Loss=0.0075 Batch_id=468 Accuracy=99.76: 100%|███████████████████████████████| 469/469 [02:55<00:00,  2.68it/s]\n"
     ]
    },
    {
     "name": "stdout",
     "output_type": "stream",
     "text": [
      "Test set: Average loss: 0.0077, Accuracy: 59863/60000 (99.77%)\n",
      "\n",
      "Adjusting learning rate of group 0 to 1.0000e-03.\n",
      "Epoch 20\n"
     ]
    },
    {
     "name": "stderr",
     "output_type": "stream",
     "text": [
      "Train: Loss=0.0015 Batch_id=468 Accuracy=99.76: 100%|███████████████████████████████| 469/469 [02:51<00:00,  2.73it/s]\n"
     ]
    },
    {
     "name": "stdout",
     "output_type": "stream",
     "text": [
      "Test set: Average loss: 0.0074, Accuracy: 59872/60000 (99.79%)\n",
      "\n",
      "Adjusting learning rate of group 0 to 1.0000e-03.\n"
     ]
    }
   ],
   "source": [
    "model = Net().to(device)\n",
    "optimizer = optim.SGD(model.parameters(), lr=0.01, momentum=0.9)\n",
    "scheduler = optim.lr_scheduler.StepLR(optimizer, step_size=15, gamma=0.1, verbose=True)\n",
    "num_epochs = 20\n",
    "\n",
    "for epoch in range(1, num_epochs+1):\n",
    "  print(f'Epoch {epoch}')\n",
    "  train(model, device, train_loader, optimizer)  # epoch is missing\n",
    "  test(model, device, test_loader)\n",
    "  scheduler.step()"
   ]
  },
  {
   "cell_type": "code",
   "execution_count": null,
   "id": "25f70b62-2776-4dc5-a620-11ffa0d57f24",
   "metadata": {},
   "outputs": [],
   "source": []
  },
  {
   "cell_type": "markdown",
   "id": "22b311af-286b-4078-b770-31298c66cfa4",
   "metadata": {},
   "source": [
    "CODE BLOCK: 11"
   ]
  },
  {
   "cell_type": "code",
   "execution_count": 17,
   "id": "1b4718b7-0c1e-4f82-9a10-ea34e1de14e4",
   "metadata": {},
   "outputs": [
    {
     "data": {
      "image/png": "[encoded data removed]",
      "text/plain": [
       "<Figure size 1500x1000 with 4 Axes>"
      ]
     },
     "metadata": {},
     "output_type": "display_data"
    }
   ],
   "source": [
    "fig, axs = plt.subplots(2,2,figsize=(15,10))\n",
    "\n",
    "axs[0, 0].plot(train_losses)\n",
    "axs[0, 0].set_title(\"Training Loss\")\n",
    "axs[0, 0].set_xlabel('num_epoch')           # num_epochs * len(train_loader)\n",
    "axs[0, 0].set_ylabel('loss')\n",
    "\n",
    "axs[1, 0].plot(train_acc)\n",
    "axs[1, 0].set_title(\"Training Accuracy\")\n",
    "axs[1, 0].set_xlabel('num_epoch')            # num_epochs * len(train_loader)\n",
    "axs[1, 0].set_ylabel('accuracy')\n",
    "\n",
    "\n",
    "axs[0, 1].plot(test_losses)\n",
    "axs[0, 1].set_title(\"Test Loss\")\n",
    "axs[0, 1].set_xlabel('number of epoch')\n",
    "axs[0, 1].set_ylabel('loss')\n",
    "\n",
    "\n",
    "axs[1, 1].plot(test_acc)\n",
    "axs[1, 1].set_title(\"Test Accuracy\")\n",
    "axs[1, 1].set_xlabel('number of epoch')\n",
    "axs[1, 1].set_ylabel('accuracy')\n",
    "plt.show()"
   ]
  },
  {
   "cell_type": "code",
   "execution_count": null,
   "id": "1110daa1-29d6-4d7c-ba3c-32dee21fb194",
   "metadata": {},
   "outputs": [],
   "source": []
  },
  {
   "cell_type": "markdown",
   "id": "ec2193fa-1bdf-4f91-a411-9292086f438b",
   "metadata": {},
   "source": [
    "**Memory Usage in Colab**"
   ]
  },
  {
   "cell_type": "markdown",
   "id": "e39e54cd-d9b1-44d5-a420-b06b7be15e71",
   "metadata": {},
   "source": [
    "<img src=\"../pics/memory_usage_Net_model.png\"></img>"
   ]
  },
  {
   "cell_type": "code",
   "execution_count": null,
   "id": "0b2c2367-79a4-45a9-bf78-372594bfe383",
   "metadata": {},
   "outputs": [],
   "source": []
  },
  {
   "attachments": {},
   "cell_type": "markdown",
   "id": "88e1093c-24b9-4562-a103-13a6e25bf037",
   "metadata": {},
   "source": [
    "# Model Architecture\n",
    "\n",
    "<p>\n",
    "    <img src=\"../pics/model_architecture.jpg\" width=\"500\" height=\"600\" />\n",
    "</p>"
   ]
  },
  {
   "cell_type": "code",
   "execution_count": null,
   "id": "ae93955c-f2ac-4b28-80b9-c274fba4326b",
   "metadata": {},
   "outputs": [],
   "source": []
  }
 ],
 "metadata": {
  "kernelspec": {
   "display_name": "Python 3 (ipykernel)",
   "language": "python",
   "name": "python3"
  },
  "language_info": {
   "codemirror_mode": {
    "name": "ipython",
    "version": 3
   },
   "file_extension": ".py",
   "mimetype": "text/x-python",
   "name": "python",
   "nbconvert_exporter": "python",
   "pygments_lexer": "ipython3",
   "version": "3.11.3"
  }
 },
 "nbformat": 4,
 "nbformat_minor": 5
}
