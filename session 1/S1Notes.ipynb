{
 "cells": [
  {
   "cell_type": "markdown",
   "id": "286c8f9e-8eec-4681-9800-22c5bee02f56",
   "metadata": {},
   "source": [
    "Transformers\n",
    "====\n",
    "\n",
    "\n",
    "\n",
    "Since 2017, transformer-based architectures have been revolutionizing the foundations of Vision AI, which was based on convolutions, and NLP, which relied on RNN/LSTM architectures.\n",
    "\n",
    "\n",
    "<div style=\"text-align: center;\">\n",
    "    <img  class=\"center\" src='./pics/transformers.png'  width=\"400\" height=\"600\"/>\n",
    "</div>"
   ]
  },
  {
   "cell_type": "markdown",
   "id": "4c3b7555-4b18-4bb6-9db8-134dbe1d69d6",
   "metadata": {},
   "source": [
    "It's important to primary color RGB for humans understanding\n",
    "\n",
    "\n",
    "<div style=\"text-align: center;\">\n",
    "    <img  class=\"center\" src='./pics/mixcolor.png'  width=\"400\" height=\"600\"/>\n",
    "</div>\n",
    "\n",
    "\n",
    "but there are different channels are are available\n",
    "<div style=\"text-align: center;\">\n",
    "    <img  class=\"center\" src='./pics/channels.jpeg'  width=\"400\" height=\"600\"/>\n",
    "</div>\n",
    "\n",
    "\n",
    "It's important to break down problems into simple solvable approach\n",
    "\n",
    "\n",
    "- Images:  Edges & Gradients, Textures, and Patterns, Part of Objects and Objects\n",
    "- NLP   :  Characters, Words, Sentences, Paragraphs, Book\n",
    "- Sound :  Air vibration, Phoneme, Sound of a word, Sound of a full sentence\n",
    "\n",
    "\n",
    "\n",
    "<div style=\"text-align: center;\">\n",
    "    <img  class=\"center\" src='./pics/cnn_architecture.png'  width=\"2000\" height=\"2000\"/>\n",
    "</div>"
   ]
  },
  {
   "cell_type": "markdown",
   "id": "006f4e1f-8241-46f2-9799-14e61158cf71",
   "metadata": {},
   "source": [
    "Attention article: https://distill.pub/2016/augmented-rnns/#attentional-interfaces"
   ]
  },
  {
   "cell_type": "code",
   "execution_count": null,
   "id": "fa196a34-c475-48de-bb48-86b9e814cdf1",
   "metadata": {},
   "outputs": [],
   "source": []
  },
  {
   "cell_type": "markdown",
   "id": "d863cce9-f275-4f14-aae5-020458f76ab5",
   "metadata": {},
   "source": [
    "# Quiz"
   ]
  },
  {
   "cell_type": "markdown",
   "id": "37823738-b71e-4a77-abac-620e4e3c0cec",
   "metadata": {},
   "source": [
    "1) what is Kernel?\n",
    "\n",
    "- a $(2n+1)\\times (2n-1)$odd matrix that is used to slide or convolve on an image\n",
    "- feature extractor\n",
    "\n",
    "we usually prefers 3x3 kernel rather than any  odd kernel, it is because it helps in reducing the number of computations.\n",
    "\n",
    "\n",
    "- The 9 values we have in a 3x3 kernel are the values which our neural network needs to learn! \n",
    "\n",
    "- We use 3x3s because that is what is optimized for speed on most hardware \n",
    "\n",
    "- When we convolve, we element-wise multiply the 9 values of the kernel with the 9 values of the image/channel, and then add them together to get a single value"
   ]
  },
  {
   "cell_type": "markdown",
   "id": "61201a48-d689-4a72-bdcf-bbcf35552815",
   "metadata": {},
   "source": [
    "2) What should be the RF of the kernels in the last layer?"
   ]
  },
  {
   "cell_type": "markdown",
   "id": "438471fe-8136-4fa3-82f2-f6dbac561b1b",
   "metadata": {},
   "source": [
    "3) What should be the attention span of a transformer model, about to predict the next work?"
   ]
  },
  {
   "cell_type": "markdown",
   "id": "e5aba550-f660-4424-be14-005be369ff3f",
   "metadata": {},
   "source": [
    "4) What  are channels?"
   ]
  },
  {
   "cell_type": "markdown",
   "id": "2795f238-d0f9-418a-968d-49e00432a78c",
   "metadata": {},
   "source": [
    "5) 4 major blocks in modern CNN "
   ]
  },
  {
   "cell_type": "markdown",
   "id": "63941fcd-0a33-4efc-9a55-07f5c0807757",
   "metadata": {},
   "source": [
    "6) What determines how many features we should extract?"
   ]
  },
  {
   "cell_type": "markdown",
   "id": "56c8a5d0-c21f-4bad-92b6-6cfa2ba30aa4",
   "metadata": {},
   "source": [
    "7) Select the ones that are TRUE:\n",
    "\n",
    "  Kernels and channels are the same things \n",
    "\n",
    "Correct!\n",
    "  Receptive field of the last layer should be atleast equal to the size of the image \n",
    "\n",
    "Correct answer\n",
    "  Total number of channels is determined by the total number of kernels in a convolutional neural network \n",
    "\n",
    "Correct!\n",
    "  The attention span of a transformer NLP model must be equal to the complete length of the input "
   ]
  },
  {
   "cell_type": "code",
   "execution_count": null,
   "id": "7de52fae-507b-4690-9135-655b9b8ff1fc",
   "metadata": {},
   "outputs": [],
   "source": []
  },
  {
   "cell_type": "markdown",
   "id": "bb5a400d-6aac-4e05-85a2-0e2a0d9f23cf",
   "metadata": {},
   "source": [
    "# Assignment"
   ]
  },
  {
   "cell_type": "code",
   "execution_count": null,
   "id": "92a0ac06-910c-401c-8951-2fae96755db3",
   "metadata": {},
   "outputs": [],
   "source": []
  }
 ],
 "metadata": {
  "kernelspec": {
   "display_name": "Python 3 (ipykernel)",
   "language": "python",
   "name": "python3"
  },
  "language_info": {
   "codemirror_mode": {
    "name": "ipython",
    "version": 3
   },
   "file_extension": ".py",
   "mimetype": "text/x-python",
   "name": "python",
   "nbconvert_exporter": "python",
   "pygments_lexer": "ipython3",
   "version": "3.10.9"
  }
 },
 "nbformat": 4,
 "nbformat_minor": 5
}
