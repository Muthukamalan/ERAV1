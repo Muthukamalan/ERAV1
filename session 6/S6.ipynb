{
 "cells": [
  {
   "cell_type": "code",
   "execution_count": 20,
   "id": "5a82383a-6d17-40cb-ae6a-29c8d532090c",
   "metadata": {},
   "outputs": [
    {
     "name": "stdout",
     "output_type": "stream",
     "text": [
      "cpu\n"
     ]
    }
   ],
   "source": [
    "import numpy as np\n",
    "import matplotlib.pyplot as plt\n",
    "\n",
    "import torch\n",
    "import torch.nn as nn\n",
    "import torch.nn.functional as F\n",
    "from torch.utils.data import Dataset, DataLoader\n",
    "from torchvision import transforms,datasets\n",
    "\n",
    "from torchsummary import summary\n",
    "\n",
    "device = torch.device(\"cuda\" if torch.cuda.is_available() else \"cpu\")\n",
    "print(device)"
   ]
  },
  {
   "cell_type": "code",
   "execution_count": null,
   "id": "f389ee06-fe40-47cb-a20e-65f2479d8703",
   "metadata": {},
   "outputs": [],
   "source": []
  },
  {
   "cell_type": "code",
   "execution_count": 5,
   "id": "4d194d90-3948-49be-ae21-2b310e335aa1",
   "metadata": {},
   "outputs": [
    {
     "data": {
      "text/plain": [
       "Dataset MNIST\n",
       "    Number of datapoints: 60000\n",
       "    Root location: ../data\n",
       "    Split: Train\n",
       "    StandardTransform\n",
       "Transform: ToTensor()"
      ]
     },
     "execution_count": 5,
     "metadata": {},
     "output_type": "execute_result"
    }
   ],
   "source": [
    "mnist_data = datasets.MNIST(\n",
    "        root='../data', \n",
    "        download=False,        \n",
    "        transform=transforms.ToTensor()\n",
    ")\n",
    "\n",
    "mnist_data"
   ]
  },
  {
   "cell_type": "code",
   "execution_count": 18,
   "id": "65f529fd-a851-4b36-ba36-abf289036d29",
   "metadata": {},
   "outputs": [
    {
     "name": "stdout",
     "output_type": "stream",
     "text": [
      "mean of mnist dataset = 0.13065974414348602\n",
      "mean of mnist dataset = 0.3015038073062897\n"
     ]
    }
   ],
   "source": [
    "def calculate_mean_std_mnist(datasets):\n",
    "    data_loader = DataLoader(datasets,batch_size=1,shuffle=False)\n",
    "    mean = torch.zeros(1);\n",
    "    std = torch.zeros(1)\n",
    "    num_samples = 0\n",
    "    transform = transforms.ToTensor()\n",
    "    for img in data_loader:\n",
    "        image = img[0]\n",
    "        image = image.squeeze()\n",
    "        mean += image.mean()             # mean across channel sum for all pics\n",
    "        std  += image.std()\n",
    "        num_samples += 1\n",
    "        \n",
    "    mean /= num_samples\n",
    "    std /= num_samples\n",
    "    return (mean.item(),std.item())\n",
    "\n",
    "\n",
    "mean,std = calculate_mean_std_mnist(mnist_data)\n",
    "print(f'mean of mnist dataset = {mean}')\n",
    "print(f'mean of mnist dataset = {std}')"
   ]
  },
  {
   "cell_type": "code",
   "execution_count": 21,
   "id": "76a03ce8-4a2f-4b6d-808c-5af687594669",
   "metadata": {},
   "outputs": [
    {
     "name": "stdout",
     "output_type": "stream",
     "text": [
      "shape of batch =torch.Size([32, 1, 28, 28])\n",
      "number of imgs in each batch= 32\n",
      "shape of img = torch.Size([1, 28, 28])\n"
     ]
    },
    {
     "data": {
      "image/png": "[encoded data removed]",
      "text/plain": [
       "<Figure size 640x480 with 1 Axes>"
      ]
     },
     "metadata": {},
     "output_type": "display_data"
    }
   ],
   "source": [
    "def plot_single_mnist_img(datasets)->None:\n",
    "  data_loader = DataLoader(datasets,batch_size=32,shuffle=True)\n",
    "  imgs,labels   = next(iter(data_loader))\n",
    "  batch_size    = imgs.size(0)\n",
    "  random_number = np.random.choice( int(batch_size) , )\n",
    "\n",
    "  print(f\"shape of batch ={imgs.shape}\")\n",
    "  print(f\"number of imgs in each batch= {len(imgs)}\")\n",
    "  print(f\"shape of img = {imgs[random_number].shape}\")\n",
    "\n",
    "  plt.imshow(imgs[random_number].squeeze(0),  cmap='gray');\n",
    "  plt.title(label=labels[random_number])\n",
    "  plt.show();\n",
    "\n",
    "plot_single_mnist_img(mnist_data)"
   ]
  },
  {
   "cell_type": "code",
   "execution_count": 22,
   "id": "84c19dba-d25a-4cf4-9fc6-dfb3fc7ca08f",
   "metadata": {},
   "outputs": [],
   "source": [
    "train_transforms = transforms.Compose([\n",
    "    transforms.RandomApply([transforms.CenterCrop(22), ], p=0.1),\n",
    "    transforms.Resize((28, 28)),\n",
    "    transforms.RandomRotation((-15., 15.), fill=0),\n",
    "    transforms.ToTensor(),\n",
    "    transforms.Normalize( mean=(mean,), std=(std,) )\n",
    "])\n",
    "\n",
    "test_transforms = transforms.Compose([\n",
    "    transforms.ToTensor(),\n",
    "    transforms.Normalize( mean=(mean,), std=(std,) )\n",
    "])"
   ]
  },
  {
   "cell_type": "code",
   "execution_count": 23,
   "id": "898d8609-4776-439c-8f04-d46c89a54d13",
   "metadata": {},
   "outputs": [],
   "source": [
    "train_dataset = datasets.MNIST(root='../data/',train=True,transform=train_transforms,download=False)\n",
    "test_dataset  = datasets.MNIST(root='../data/',train=False,transform=test_transforms,download=False)"
   ]
  },
  {
   "cell_type": "code",
   "execution_count": 24,
   "id": "6ef361a7-4091-4f1d-aa0f-8a6bed896273",
   "metadata": {},
   "outputs": [
    {
     "name": "stdout",
     "output_type": "stream",
     "text": [
      "0\n",
      "1\n",
      "4\n",
      "9\n",
      "16\n",
      "25\n",
      "36\n",
      "49\n",
      "64\n",
      "81\n"
     ]
    }
   ],
   "source": [
    "for i in range(10):\n",
    "    print(np.power(i,2))"
   ]
  },
  {
   "cell_type": "code",
   "execution_count": null,
   "id": "2a187428-a22e-4e3b-b422-f102bb653773",
   "metadata": {},
   "outputs": [],
   "source": []
  },
  {
   "cell_type": "code",
   "execution_count": 41,
   "id": "eadab28e-e62d-4a6d-92c8-3ebf22a6ea6e",
   "metadata": {},
   "outputs": [],
   "source": [
    "class Net(nn.Module):\n",
    "    def __init__(self):\n",
    "        super(Net,self).__init__()\n",
    "\n",
    "        self.conv1 = nn.Sequential(\n",
    "            # Input 1 channels,  output=16 channels\n",
    "            nn.Conv2d(in_channels=1,out_channels=16,kernel_size=3,stride=1,padding=1,bias=False),\n",
    "            nn.ReLU(),\n",
    "\n",
    "            # Input 16 Channels, outputs=32 channels\n",
    "            nn.Conv2d(in_channels=16,out_channels=32,kernel_size=3,stride=1,padding=1,bias=False),\n",
    "            nn.ReLU(),\n",
    "        )\n",
    "        self.trans1 = nn.Sequential(\n",
    "            # Input 32 channels output=16 channels\n",
    "            nn.Conv2d(in_channels=32,out_channels=16,kernel_size=1,bias=False,padding=1),\n",
    "            nn.ReLU(),\n",
    "\n",
    "            # Input resolution shape = (28*28*16)   output = (14*14*16)\n",
    "            nn.MaxPool2d( kernel_size =2 , stride =2 , padding =0 )\n",
    "        )\n",
    "        \n",
    "        self.conv2 =nn.Sequential(\n",
    "            # input= 16 channels, output=(16 channels)\n",
    "            nn.Conv2d(in_channels=16,out_channels=16,kernel_size=3,stride=1,padding=1,bias=False),\n",
    "            nn.ReLU(),\n",
    "\n",
    "            # input 16 channels and output=(32 channels)\n",
    "            nn.Conv2d(in_channels=16,out_channels=32,kernel_size=3,stride=1,padding=1,bias=False),\n",
    "            nn.ReLU()\n",
    "        )\n",
    "        self.trans2 = nn.Sequential(\n",
    "            # input 32 channels and output = 16 channels\n",
    "            nn.Conv2d(in_channels=32,out_channels=16,kernel_size=1,bias=False),\n",
    "            nn.ReLU(),\n",
    "\n",
    "            # input = (14*14*16) output=(7*7*16)\n",
    "            nn.MaxPool2d( kernel_size =2 , stride =2 , padding =0 )\n",
    "        )\n",
    "\n",
    "        self.conv3 = nn.Sequential(\n",
    "            # Input=(7*7*16) and output=(7*7*16)\n",
    "            nn.Conv2d(in_channels=16,out_channels=16,kernel_size=3,stride=1,padding=1,bias=False),\n",
    "            nn.ReLU(),\n",
    "            # Input=(7*7*16) and output=(7*7*32)\n",
    "            nn.Conv2d(in_channels=16,out_channels=32,kernel_size=3,stride=1,padding=1,bias=False),\n",
    "            nn.ReLU(),\n",
    "        )\n",
    "        self.trans3 = nn.Sequential(\n",
    "            #input = (7*7*32) and output=(7*7*16)\n",
    "            nn.Conv2d(in_channels=32,out_channels=16,kernel_size=1,bias=False),\n",
    "            nn.ReLU(),\n",
    "            #input =(7*7*16)          output = 3*3*16 \n",
    "            nn.MaxPool2d( kernel_size =2 , stride =2 , padding =0 )\n",
    "        )\n",
    "\n",
    "        self.conv4 = nn.Sequential(\n",
    "            # input=(3*3*16)   output=(3*3*10)\n",
    "            nn.Conv2d(in_channels=16 ,out_channels=10, kernel_size=3,stride=1,padding=1,bias=False),\n",
    "            nn.AvgPool2d(kernel_size=3)\n",
    "            \n",
    "            \n",
    "        )\n",
    "        \n",
    "        \n",
    "    def forward(self,x):\n",
    "        x = self.trans1( self.conv1(x) )\n",
    "        x = self.trans2( self.conv2(x) )\n",
    "        x = self.trans3( self.conv3(x) )\n",
    "        x = self.conv4(x)\n",
    "        x = x.view(-1,10)\n",
    "        return F.log_softmax(x)"
   ]
  },
  {
   "cell_type": "code",
   "execution_count": 42,
   "id": "3de639ab-7d01-4939-b926-16952f7af88e",
   "metadata": {},
   "outputs": [],
   "source": [
    "model = Net().to(device)"
   ]
  },
  {
   "cell_type": "code",
   "execution_count": 43,
   "id": "dc276b81-5524-4982-811e-f4abb42bab4b",
   "metadata": {},
   "outputs": [
    {
     "name": "stdout",
     "output_type": "stream",
     "text": [
      "==========================================================================================\n",
      "Layer (type:depth-idx)                   Output Shape              Param #\n",
      "==========================================================================================\n",
      "├─Sequential: 1-1                        [-1, 16, 28, 28]          --\n",
      "|    └─Conv2d: 2-1                       [-1, 8, 28, 28]           72\n",
      "|    └─ReLU: 2-2                         [-1, 8, 28, 28]           --\n",
      "|    └─Conv2d: 2-3                       [-1, 16, 28, 28]          1,152\n",
      "|    └─ReLU: 2-4                         [-1, 16, 28, 28]          --\n",
      "├─Sequential: 1-2                        [-1, 16, 15, 15]          --\n",
      "|    └─Conv2d: 2-5                       [-1, 16, 30, 30]          256\n",
      "|    └─ReLU: 2-6                         [-1, 16, 30, 30]          --\n",
      "|    └─MaxPool2d: 2-7                    [-1, 16, 15, 15]          --\n",
      "├─Sequential: 1-3                        [-1, 32, 15, 15]          --\n",
      "|    └─Conv2d: 2-8                       [-1, 16, 15, 15]          2,304\n",
      "|    └─ReLU: 2-9                         [-1, 16, 15, 15]          --\n",
      "|    └─Conv2d: 2-10                      [-1, 32, 15, 15]          4,608\n",
      "|    └─ReLU: 2-11                        [-1, 32, 15, 15]          --\n",
      "├─Sequential: 1-4                        [-1, 16, 7, 7]            --\n",
      "|    └─Conv2d: 2-12                      [-1, 16, 15, 15]          512\n",
      "|    └─ReLU: 2-13                        [-1, 16, 15, 15]          --\n",
      "|    └─MaxPool2d: 2-14                   [-1, 16, 7, 7]            --\n",
      "├─Sequential: 1-5                        [-1, 32, 7, 7]            --\n",
      "|    └─Conv2d: 2-15                      [-1, 16, 7, 7]            2,304\n",
      "|    └─ReLU: 2-16                        [-1, 16, 7, 7]            --\n",
      "|    └─Conv2d: 2-17                      [-1, 32, 7, 7]            4,608\n",
      "|    └─ReLU: 2-18                        [-1, 32, 7, 7]            --\n",
      "├─Sequential: 1-6                        [-1, 16, 3, 3]            --\n",
      "|    └─Conv2d: 2-19                      [-1, 16, 7, 7]            512\n",
      "|    └─ReLU: 2-20                        [-1, 16, 7, 7]            --\n",
      "|    └─MaxPool2d: 2-21                   [-1, 16, 3, 3]            --\n",
      "├─Sequential: 1-7                        [-1, 10, 1, 1]            --\n",
      "|    └─Conv2d: 2-22                      [-1, 10, 3, 3]            1,440\n",
      "|    └─AvgPool2d: 2-23                   [-1, 10, 1, 1]            --\n",
      "==========================================================================================\n",
      "Total params: 17,768\n",
      "Trainable params: 17,768\n",
      "Non-trainable params: 0\n",
      "Total mult-adds (M): 3.25\n",
      "==========================================================================================\n",
      "Input size (MB): 0.00\n",
      "Forward/backward pass size (MB): 0.39\n",
      "Params size (MB): 0.07\n",
      "Estimated Total Size (MB): 0.46\n",
      "==========================================================================================\n"
     ]
    },
    {
     "name": "stderr",
     "output_type": "stream",
     "text": [
      "/tmp/ipykernel_9214/2043874046.py:72: UserWarning: Implicit dimension choice for log_softmax has been deprecated. Change the call to include dim=X as an argument.\n",
      "  return F.log_softmax(x)\n"
     ]
    }
   ],
   "source": [
    "summary(model=model,input_data=(1,28,28));"
   ]
  },
  {
   "cell_type": "code",
   "execution_count": null,
   "id": "4f49346e-0f0b-4dd9-8617-46734005dd2f",
   "metadata": {},
   "outputs": [],
   "source": []
  },
  {
   "cell_type": "code",
   "execution_count": null,
   "id": "d2a3df35-dbbc-49bb-9185-67ca6517ad85",
   "metadata": {},
   "outputs": [],
   "source": []
  },
  {
   "cell_type": "code",
   "execution_count": 47,
   "id": "28e11271-640f-42d1-a7f4-c7f6bd99879b",
   "metadata": {},
   "outputs": [
    {
     "name": "stdout",
     "output_type": "stream",
     "text": [
      "conv1.0.weight\t\t torch.Size([8, 1, 3, 3])\n",
      "conv1.3.weight\t\t torch.Size([16, 8, 3, 3])\n",
      "trans1.0.weight\t\t torch.Size([8, 16, 1, 1])\n",
      "conv2.0.weight\t\t torch.Size([16, 8, 3, 3])\n",
      "conv2.3.weight\t\t torch.Size([32, 16, 3, 3])\n",
      "trans2.0.weight\t\t torch.Size([16, 32, 1, 1])\n",
      "conv3.0.weight\t\t torch.Size([32, 16, 3, 3])\n",
      "conv3.3.weight\t\t torch.Size([32, 32, 3, 3])\n",
      "trans3.0.weight\t\t torch.Size([16, 32, 1, 1])\n",
      "conv4.0.weight\t\t torch.Size([10, 16, 3, 3])\n",
      "==========================================================================================\n",
      "Layer (type:depth-idx)                   Output Shape              Param #\n",
      "==========================================================================================\n",
      "├─Sequential: 1-1                        [-1, 16, 28, 28]          --\n",
      "|    └─Conv2d: 2-1                       [-1, 8, 28, 28]           72\n",
      "|    └─Dropout: 2-2                      [-1, 8, 28, 28]           --\n",
      "|    └─ReLU: 2-3                         [-1, 8, 28, 28]           --\n",
      "|    └─Conv2d: 2-4                       [-1, 16, 28, 28]          1,152\n",
      "|    └─Dropout: 2-5                      [-1, 16, 28, 28]          --\n",
      "|    └─ReLU: 2-6                         [-1, 16, 28, 28]          --\n",
      "├─Sequential: 1-2                        [-1, 8, 15, 15]           --\n",
      "|    └─Conv2d: 2-7                       [-1, 8, 30, 30]           128\n",
      "|    └─ReLU: 2-8                         [-1, 8, 30, 30]           --\n",
      "|    └─MaxPool2d: 2-9                    [-1, 8, 15, 15]           --\n",
      "├─Sequential: 1-3                        [-1, 32, 15, 15]          --\n",
      "|    └─Conv2d: 2-10                      [-1, 16, 15, 15]          1,152\n",
      "|    └─Dropout: 2-11                     [-1, 16, 15, 15]          --\n",
      "|    └─ReLU: 2-12                        [-1, 16, 15, 15]          --\n",
      "|    └─Conv2d: 2-13                      [-1, 32, 15, 15]          4,608\n",
      "|    └─Dropout: 2-14                     [-1, 32, 15, 15]          --\n",
      "|    └─ReLU: 2-15                        [-1, 32, 15, 15]          --\n",
      "├─Sequential: 1-4                        [-1, 16, 7, 7]            --\n",
      "|    └─Conv2d: 2-16                      [-1, 16, 15, 15]          512\n",
      "|    └─ReLU: 2-17                        [-1, 16, 15, 15]          --\n",
      "|    └─MaxPool2d: 2-18                   [-1, 16, 7, 7]            --\n",
      "├─Sequential: 1-5                        [-1, 32, 7, 7]            --\n",
      "|    └─Conv2d: 2-19                      [-1, 32, 7, 7]            4,608\n",
      "|    └─Dropout: 2-20                     [-1, 32, 7, 7]            --\n",
      "|    └─ReLU: 2-21                        [-1, 32, 7, 7]            --\n",
      "|    └─Conv2d: 2-22                      [-1, 32, 7, 7]            9,216\n",
      "|    └─Dropout: 2-23                     [-1, 32, 7, 7]            --\n",
      "|    └─ReLU: 2-24                        [-1, 32, 7, 7]            --\n",
      "├─Sequential: 1-6                        [-1, 16, 3, 3]            --\n",
      "|    └─Conv2d: 2-25                      [-1, 16, 7, 7]            512\n",
      "|    └─ReLU: 2-26                        [-1, 16, 7, 7]            --\n",
      "|    └─MaxPool2d: 2-27                   [-1, 16, 3, 3]            --\n",
      "├─Sequential: 1-7                        [-1, 10, 1, 1]            --\n",
      "|    └─Conv2d: 2-28                      [-1, 10, 3, 3]            1,440\n",
      "|    └─AvgPool2d: 2-29                   [-1, 10, 1, 1]            --\n",
      "==========================================================================================\n",
      "Total params: 23,400\n",
      "Trainable params: 23,400\n",
      "Non-trainable params: 0\n",
      "Total mult-adds (M): 3.22\n",
      "==========================================================================================\n",
      "Input size (MB): 0.00\n",
      "Forward/backward pass size (MB): 0.34\n",
      "Params size (MB): 0.09\n",
      "Estimated Total Size (MB): 0.43\n",
      "==========================================================================================\n"
     ]
    },
    {
     "name": "stderr",
     "output_type": "stream",
     "text": [
      "/tmp/ipykernel_9214/2748164531.py:77: UserWarning: Implicit dimension choice for log_softmax has been deprecated. Change the call to include dim=X as an argument.\n",
      "  return F.log_softmax(x)\n"
     ]
    }
   ],
   "source": [
    "class Net2(nn.Module):\n",
    "    def __init__(self):\n",
    "        super(Net2,self).__init__()\n",
    "\n",
    "        self.conv1 = nn.Sequential(\n",
    "            # Input 1 channels,  output=16 channels\n",
    "            nn.Conv2d(in_channels=1,out_channels=8,kernel_size=3,stride=1,padding=1,bias=False),\n",
    "            nn.Dropout(p=0.1),\n",
    "            nn.ReLU(),\n",
    "\n",
    "            # Input 16 Channels, outputs=32 channels\n",
    "            nn.Conv2d(in_channels=8,out_channels=16,kernel_size=3,stride=1,padding=1,bias=False),\n",
    "            nn.Dropout(p=0.1),\n",
    "            nn.ReLU(),\n",
    "        )\n",
    "        self.trans1 = nn.Sequential(\n",
    "            # Input 32 channels output=16 channels\n",
    "            nn.Conv2d(in_channels=16,out_channels=8,kernel_size=1,bias=False,padding=1),\n",
    "            nn.ReLU(),\n",
    "            # Input resolution shape = (28*28*16)   output = (14*14*16)\n",
    "            nn.MaxPool2d( kernel_size =2 , stride =2 , padding =0 )\n",
    "        )\n",
    "        \n",
    "        self.conv2 =nn.Sequential(\n",
    "            # input= 16 channels, output=(16 channels)\n",
    "            nn.Conv2d(in_channels=8,out_channels=16,kernel_size=3,stride=1,padding=1,bias=False),\n",
    "            nn.Dropout(p=0.1),\n",
    "            nn.ReLU(),\n",
    "\n",
    "            # input 16 channels and output=(32 channels)\n",
    "            nn.Conv2d(in_channels=16,out_channels=32,kernel_size=3,stride=1,padding=1,bias=False),\n",
    "            nn.Dropout(p=0.1),\n",
    "            nn.ReLU()\n",
    "        )\n",
    "        self.trans2 = nn.Sequential(\n",
    "            # input 32 channels and output = 16 channels\n",
    "            nn.Conv2d(in_channels=32,out_channels=16,kernel_size=1,bias=False),\n",
    "            nn.ReLU(),\n",
    "\n",
    "            # input = (14*14*16) output=(7*7*16)\n",
    "            nn.MaxPool2d( kernel_size =2 , stride =2 , padding =0 )\n",
    "        )\n",
    "\n",
    "        self.conv3 = nn.Sequential(\n",
    "            # Input=(7*7*16) and output=(7*7*16)\n",
    "            nn.Conv2d(in_channels=16,out_channels=32,kernel_size=3,stride=1,padding=1,bias=False),\n",
    "            nn.Dropout(p=0.1),\n",
    "            nn.ReLU(),\n",
    "            # Input=(7*7*16) and output=(7*7*32)\n",
    "            nn.Conv2d(in_channels=32,out_channels=32,kernel_size=3,stride=1,padding=1,bias=False),\n",
    "            nn.Dropout(),\n",
    "            nn.ReLU(),\n",
    "        )\n",
    "        self.trans3 = nn.Sequential(\n",
    "            #input = (7*7*32) and output=(7*7*16)\n",
    "            nn.Conv2d(in_channels=32,out_channels=16,kernel_size=1,bias=False),\n",
    "            nn.ReLU(),\n",
    "            #input =(7*7*16)          output = 3*3*16 \n",
    "            nn.MaxPool2d( kernel_size =2 , stride =2 , padding =0 )\n",
    "        )\n",
    "\n",
    "        self.conv4 = nn.Sequential(\n",
    "            # input=(3*3*16)   output=(3*3*10)\n",
    "            nn.Conv2d(in_channels=16 ,out_channels=10, kernel_size=3,stride=1,padding=1,bias=False),\n",
    "            nn.AvgPool2d(kernel_size=3)\n",
    "            \n",
    "            \n",
    "        )\n",
    "        \n",
    "        \n",
    "    def forward(self,x):\n",
    "        x = self.trans1( self.conv1(x) )\n",
    "        x = self.trans2( self.conv2(x) )\n",
    "        x = self.trans3( self.conv3(x) )\n",
    "        x = self.conv4(x)\n",
    "        x = x.view(-1,10)\n",
    "        return F.log_softmax(x)\n",
    "\n",
    "\n",
    "model = Net2().to(device)\n",
    "for name,weights in model.named_parameters():\n",
    "    print(f\"{name}\\t\\t {weights.shape}\")\n",
    "\n",
    "summary(model,input_data=(1,28,28));"
   ]
  },
  {
   "cell_type": "code",
   "execution_count": null,
   "id": "c7db1218-8772-4e44-bc05-1135134a9900",
   "metadata": {},
   "outputs": [],
   "source": []
  }
 ],
 "metadata": {
  "kernelspec": {
   "display_name": "Python 3 (ipykernel)",
   "language": "python",
   "name": "python3"
  },
  "language_info": {
   "codemirror_mode": {
    "name": "ipython",
    "version": 3
   },
   "file_extension": ".py",
   "mimetype": "text/x-python",
   "name": "python",
   "nbconvert_exporter": "python",
   "pygments_lexer": "ipython3",
   "version": "3.11.3"
  }
 },
 "nbformat": 4,
 "nbformat_minor": 5
}
