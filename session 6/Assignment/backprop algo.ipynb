{
 "cells": [
  {
   "cell_type": "markdown",
   "id": "a9555ab5-d72b-4e5c-ae2d-a049aad549e5",
   "metadata": {},
   "source": [
    "# Calculate $\\frac{\\partial E~Total}{\\partial w_5}, \\frac{\\partial E~Total}{\\partial w_6} , \\frac{\\partial E~Total}{\\partial w_7}, \\frac{\\partial E~Total}{\\partial w_8}$"
   ]
  },
  {
   "cell_type": "markdown",
   "id": "d4b954f1-cd93-46b7-8c81-11af88822d83",
   "metadata": {},
   "source": [
    "## $\\frac{\\partial E~Total}{\\partial w_5}$\n",
    "\n",
    "<img src=\"./pics/BACKPROP pic/W5.png\" title=\"dE/dW5\"/>\n",
    "\n",
    "$\\frac{\\partial E~Total}{\\partial w_5} = \\frac{\\partial (E1+E2)}{\\partial w_5} = \\frac{\\partial E1}{\\partial w_5}$\n",
    "\n",
    "apply  *chain rule*,\n",
    "\n",
    "$\\frac{\\partial E~Total}{\\partial w_5} =\\frac{\\partial E_1}{\\partial a~o_1} \\times \\frac{\\partial a~o_1}{\\partial o_1}  \\times \\frac{\\partial o_1}{\\partial w_5} $ \n",
    "\n",
    "$\\frac{\\partial E~Total}{\\partial w_5} = \\frac{\\partial 0.5 * (t_1 - a~o_1)^2}{\\partial a~o_1} \\times \\frac{\\partial \\sigma(o_1) }{\\partial o_1} \\times \\frac{\\partial (a~h1 * w_5 + a~h_2 * w_6)}{\\partial w_5}$\n",
    "\n",
    "$\\frac{\\partial E~Total}{\\partial w_5} = 0.5 * 2 (t_1 - a~o_1) * -1  \\times  a~o_1 * (1-a~o_1)  \\times a~h_1$\n",
    "\n",
    "$\\frac{\\partial E~Total}{\\partial w_5} = (a~o_1 - t_1) * a~o_1 * (1-a~o_1) * a~h_1$"
   ]
  },
  {
   "cell_type": "markdown",
   "id": "83489aaf-8ace-4ea7-87d9-575b2cf0e2f5",
   "metadata": {},
   "source": [
    "## $\\frac{\\partial E~Total}{\\partial w_6}$\n",
    "\n",
    "<img src=\"./pics/BACKPROP pic/W6.png\" title=\"dE/dW6\"/>\n",
    "\n",
    "$\\frac{\\partial E~Total}{\\partial w_6} = \\frac{\\partial (E1+E2)}{\\partial w_6} = \\frac{\\partial E1}{\\partial w_6} =\\frac{\\partial E_1}{\\partial a~o_1} \\times \\frac{\\partial a~o_1}{\\partial o_1}  \\times \\frac{\\partial o_1}{\\partial w_6} $\n",
    "\n",
    "$\\frac{\\partial E~Total}{\\partial w_6} =  (a~o_1 - t_1) * a~o_1 * (1-a~o_1) * a~h_2$\n"
   ]
  },
  {
   "cell_type": "markdown",
   "id": "07cfce63-de3e-4030-8f7b-4fb94865f07c",
   "metadata": {},
   "source": [
    "## $\\frac{\\partial E~Total}{\\partial w_7}$\n",
    "\n",
    "<img src=\"./pics/BACKPROP pic/W7.png\" title=\"dE/dW7\"/>\n",
    "\n",
    "$\\frac{\\partial E~Total}{\\partial w_7} = \\frac{\\partial (E1+E2)}{\\partial w_7} = \\frac{\\partial E2}{\\partial w_7} =\\frac{\\partial E_2}{\\partial a~o_2} \\times \\frac{\\partial a~o_2}{\\partial o_2}  \\times \\frac{\\partial o_2}{\\partial w_7} $\n",
    "\n",
    "$\\frac{\\partial E~Total}{\\partial w_7} =  0.58 * 2 (t_2-a~o_2) * -1 \\times \\frac{\\partial \\sigma(o_2)}{\\partial o_2} \\times \\frac{\\partial (a~h_1 w_7 + w_8 * a~h_2)}{\\partial w_7} $\n",
    "\n",
    "$\\frac{\\partial E~Total}{\\partial w_7} =  (a~o_2 - t_2) * a~o_2 * (1-a~o_2) * a~h_1$\n"
   ]
  },
  {
   "cell_type": "markdown",
   "id": "45e2d3b1-3070-4ba3-9d43-160ed8a643ec",
   "metadata": {},
   "source": [
    "## $\\frac{\\partial E~Total}{\\partial w_8}$\n",
    "<img src=\"./pics/BACKPROP pic/W8.png\" title=\"dE/dW8\"/>\n",
    "\n",
    "$\\frac{\\partial E~Total}{\\partial w_8} = \\frac{\\partial (E1+E2)}{\\partial w_8} = \\frac{\\partial E2}{\\partial w_8} =\\frac{\\partial E_2}{\\partial a~o_2} \\times \\frac{\\partial a~o_2}{\\partial o_2}  \\times \\frac{\\partial o_2}{\\partial w_8} $\n",
    "\n",
    "$\\frac{\\partial E~Total}{\\partial w_8} =  (a~o_2 - t_2) * a~o_2 * (1-a~o_2) * a~h_2$\n"
   ]
  },
  {
   "cell_type": "code",
   "execution_count": null,
   "id": "c08c3e9d-4b16-4590-b095-e3048365761b",
   "metadata": {},
   "outputs": [],
   "source": []
  },
  {
   "cell_type": "markdown",
   "id": "4224319b-4648-4d2e-a63e-dc91fee85a78",
   "metadata": {},
   "source": [
    "## calculate $\\frac{\\partial E~Total}{\\partial a~h1}, \\frac{\\partial E~Total}{\\partial a~h_2}$"
   ]
  },
  {
   "cell_type": "markdown",
   "id": "eb3482c6-7c4b-42f0-b72d-00ca0222a17a",
   "metadata": {},
   "source": [
    "## $\\frac{\\partial E~Total}{\\partial a~h1}$\n",
    "<img src=\"./pics/BACKPROP pic/a_h1.png\" title=\"dE/da_h1\"/>\n",
    "\n",
    "$\\frac{\\partial E~Total}{\\partial a~h_1} = \\frac{\\partial E_1}{\\partial a~h_1} + \\frac{\\partial E_2}{\\partial a~h_1} $\n",
    "\n",
    "$\\frac{\\partial E~Total}{\\partial a~h_1} = (\\frac{\\partial E_1}{\\partial a~o_1} \\times \\frac{\\partial a~o_1}{\\partial o_1} \\times \\frac{\\partial o_1}{\\partial a~h_1}) + (\\frac{\\partial E_2}{\\partial a~o_2} \\times \\frac{\\partial a~o_2}{\\partial o_2} \\times \\frac{\\partial o_2 }{\\partial a~h_1})$\n",
    "\n",
    "\n",
    "$\\frac{\\partial E~Total}{\\partial a~h_1} =  ((a~o_1 - t_1) * a~o_1 * (1-a~o_1) * w_5)+ ((a~o_2 - t_2) * a~o_2 * (1-a~o_2) * w_7)$\n"
   ]
  },
  {
   "cell_type": "markdown",
   "id": "b4bba421-5876-42f5-8528-756845767707",
   "metadata": {},
   "source": [
    "## $\\frac{\\partial E~Total}{\\partial a~h2}$\n",
    "<img src=\"./pics/BACKPROP pic/a_h2.png\" title=\"dE/da_h2\"/>\n",
    "\n",
    "\n",
    "$\\frac{\\partial E~Total}{\\partial a~h_2} = \\frac{\\partial E_1}{\\partial a~h_2} + \\frac{\\partial E_2}{\\partial a~h_2} $\n",
    "\n",
    "$\\frac{\\partial E~Total}{\\partial a~h_2} = (\\frac{\\partial E_1}{\\partial a~o_1} \\times \\frac{\\partial a~o_1}{\\partial o_1} \\times \\frac{\\partial o_1}{\\partial a~h_2}) + (\\frac{\\partial E_2}{\\partial a~o_2} \\times \\frac{\\partial a~o_2}{\\partial o_2} \\times \\frac{\\partial o_2 }{\\partial a~h_2})$\n",
    "\n",
    "\n",
    "$\\frac{\\partial E~Total}{\\partial a~h_2} =  ((a~o_1 - t_1) * a~o_1 * (1-a~o_1) * w_6)+ ((a~o_2 - t_2) * a~o_2 * (1-a~o_2) * w_8)$\n"
   ]
  },
  {
   "cell_type": "code",
   "execution_count": null,
   "id": "081bba80-cee9-4cf3-b181-c8c514a56e7a",
   "metadata": {},
   "outputs": [],
   "source": []
  },
  {
   "cell_type": "markdown",
   "id": "0ffc9c27-fa0f-4763-b310-76a3acb3a25b",
   "metadata": {},
   "source": [
    "# Calculate $\\frac{\\partial E~Total}{\\partial w_1}, \\frac{\\partial E~Total}{\\partial w_2} , \\frac{\\partial E~Total}{\\partial w_3}, \\frac{\\partial E~Total}{\\partial w_4}$"
   ]
  },
  {
   "cell_type": "markdown",
   "id": "05c94502-121f-4ea6-87ee-1c1a2d147d15",
   "metadata": {},
   "source": [
    "## $\\frac{\\partial E~Total}{\\partial w_1}$\n",
    "<img src=\"./pics/BACKPROP pic/W1.png\" title=\"dE/dW1\"/>\n",
    "\n",
    "\n",
    "$\\frac{\\partial E~Total}{\\partial w_1} = \\frac{\\partial E~Total}{\\partial a~h_1} * \\frac{\\partial a~h_1}{\\partial h_1} * \\frac{\\partial h_1}{\\partial w_1}$\n",
    "\n",
    "\n",
    "$\\frac{\\partial E~Total}{\\partial w_1} = ((a~o_1 - t_1) * a~o_1 * (1-a~o_1) * w_5)+ ((a~o_2 - t_2) * a~o_2 * (1-a~o_2) * w_7) *  \\frac{\\partial \\sigma(h_1)}{\\partial h_1}  \\times \\frac{\\partial (w_1i_1 +w_2i_2 )}{\\partial w_1} $\n",
    "\n",
    "\n",
    "$\\frac{\\partial E~Total}{\\partial w_1} =  ((a~o_1 - t_1) * a~o_1 * (1-a~o_1) * w_5)+ ((a~o_2 - t_2) * a~o_2 * (1-a~o_2) * w_7) *  a~h_1 (1-a~h_1) * i_1$ "
   ]
  },
  {
   "cell_type": "markdown",
   "id": "f9dfeaa3-0eed-48a7-85b4-9222148371ed",
   "metadata": {},
   "source": [
    "## $\\frac{\\partial E~Total}{\\partial w_2}$\n",
    "<img src=\"./pics/BACKPROP pic/W2.png\" title=\"dE/dW2\"/>\n",
    "\n",
    "$\\frac{\\partial E~Total}{\\partial w_2} =((a~o_1 - t_1) * a~o_1 * (1-a~o_1) * w_5)+ ((a~o_2 - t_2) * a~o_2 * (1-a~o_2) * w_7) *  a~h_1 (1-a~h_1) * i_2$ "
   ]
  },
  {
   "cell_type": "markdown",
   "id": "6ee32db7-af1f-474e-bc78-dddd6054b3a4",
   "metadata": {},
   "source": [
    "## $\\frac{\\partial E~Total}{\\partial w_3}$\n",
    "\n",
    "<img src=\"./pics/BACKPROP pic/W3.png\" title=\"dE/dW3\"/>\n",
    "\n",
    "$\\frac{\\partial E~Total}{\\partial w_3} = \\frac{\\partial E~Total}{\\partial a~h_2} * \\frac{\\partial a~h_2}{\\partial h_2} * \\frac{\\partial h_2}{\\partial w_3}$\n",
    "\n",
    "$\\frac{\\partial E~Total}{\\partial w_3} = ((a~o_1 - t_1) * a~o_1 * (1-a~o_1) * w_6)+ ((a~o_2 - t_2) * a~o_2 * (1-a~o_2) * w_8) * a~h_2 * ( 1-a~h_2) * i_1$\n"
   ]
  },
  {
   "cell_type": "markdown",
   "id": "938eb409-acca-45e6-bda6-5fc9bb0c3ad6",
   "metadata": {},
   "source": [
    "## $\\frac{\\partial E~Total}{\\partial w_4}$\n",
    "\n",
    "<img src=\"./pics/BACKPROP pic/W4.png\" title=\"dE/dW4\"/>\n",
    "\n",
    "$\\frac{\\partial E~Total}{\\partial w_4} = ((a~o_1 - t_1) * a~o_1 * (1-a~o_1) * w_6)+ ((a~o_2 - t_2) * a~o_2 * (1-a~o_2) * w_8) * a~h_2 * ( 1-a~h_2) * i_2$\n"
   ]
  },
  {
   "cell_type": "code",
   "execution_count": null,
   "id": "a0967430-b62b-4173-994f-e638cfff6dca",
   "metadata": {},
   "outputs": [],
   "source": []
  }
 ],
 "metadata": {
  "kernelspec": {
   "display_name": "Python 3 (ipykernel)",
   "language": "python",
   "name": "python3"
  },
  "language_info": {
   "codemirror_mode": {
    "name": "ipython",
    "version": 3
   },
   "file_extension": ".py",
   "mimetype": "text/x-python",
   "name": "python",
   "nbconvert_exporter": "python",
   "pygments_lexer": "ipython3",
   "version": "3.11.3"
  }
 },
 "nbformat": 4,
 "nbformat_minor": 5
}
